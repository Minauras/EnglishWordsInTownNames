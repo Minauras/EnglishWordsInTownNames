{
 "cells": [
  {
   "cell_type": "markdown",
   "metadata": {},
   "source": [
    "# Finding Swiss municipalities which names are also English Words"
   ]
  },
  {
   "cell_type": "code",
   "execution_count": 1,
   "metadata": {},
   "outputs": [],
   "source": [
    "import pandas as pd\n",
    "from PyDictionary import PyDictionary\n",
    "from io import StringIO\n",
    "import sys\n",
    "import os.path"
   ]
  },
  {
   "cell_type": "code",
   "execution_count": 2,
   "metadata": {},
   "outputs": [],
   "source": [
    "class Capturing(list):\n",
    "    def __enter__(self):\n",
    "        self._stdout = sys.stdout\n",
    "        sys.stdout = self._stringio = StringIO()\n",
    "        return self\n",
    "    def __exit__(self, *args):\n",
    "        self.extend(self._stringio.getvalue().splitlines())\n",
    "        del self._stringio    # free up some memory\n",
    "        sys.stdout = self._stdout"
   ]
  },
  {
   "cell_type": "code",
   "execution_count": 3,
   "metadata": {},
   "outputs": [],
   "source": [
    "def isEnglishWord(s):\n",
    "    with Capturing() as output:\n",
    "        dictionary.meaning(s)\n",
    "    return output == []"
   ]
  },
  {
   "cell_type": "markdown",
   "metadata": {},
   "source": [
    "## Matching municipalities with an english dictionary"
   ]
  },
  {
   "cell_type": "code",
   "execution_count": 4,
   "metadata": {},
   "outputs": [],
   "source": [
    "df = pd.read_csv(\"./towns.csv\")\n",
    "dictionary = PyDictionary()"
   ]
  },
  {
   "cell_type": "code",
   "execution_count": 5,
   "metadata": {},
   "outputs": [
    {
     "name": "stdout",
     "output_type": "stream",
     "text": [
      "Retrieved computed municipalities from file\n"
     ]
    }
   ],
   "source": [
    "munis_english_words_path = 'municipalities_english_words.txt'\n",
    "if(not os.path.exists(munis_english_words_path)):\n",
    "    print(\"Computing municipalities...\")\n",
    "    municipalities_english_words = []\n",
    "    for index, row in df.iterrows():\n",
    "        municipality = row['Municipality']\n",
    "        if(isEnglishWord(municipality)):\n",
    "            municipalities_english_words.append(municipality)\n",
    "\n",
    "    with open(munis_english_words_path, 'w') as filehandle:\n",
    "        for muni in municipalities_english_words:\n",
    "            filehandle.write('%s\\n' % muni)\n",
    "else:\n",
    "    print(\"Retrieved computed municipalities from file\")\n",
    "    municipalities_english_words = []\n",
    "    with open(munis_english_words_path, 'r') as filehandle:\n",
    "        for line in filehandle:\n",
    "            # remove linebreak which is the last character of the string\n",
    "            currentPlace = line[:-1]\n",
    "            municipalities_english_words.append(currentPlace)"
   ]
  },
  {
   "cell_type": "markdown",
   "metadata": {},
   "source": [
    "## Handpicking which entries make sense\n",
    "I chose to remove Units and proper nouns from the selected list, as they don't typically correspond to what we think about when thinking about english words"
   ]
  },
  {
   "cell_type": "code",
   "execution_count": 11,
   "metadata": {},
   "outputs": [
    {
     "name": "stdout",
     "output_type": "stream",
     "text": [
      "Retrieved computed municipalities from file\n"
     ]
    }
   ],
   "source": [
    "filtered_munis_path = \"filtered_munis.txt\"\n",
    "if(not os.path.exists(filtered_munis_path)):\n",
    "    #Filtering the results\n",
    "    munis_deleting_decision = []\n",
    "\n",
    "    for muni in municipalities_english_words:\n",
    "        print(muni)\n",
    "        print(dictionary.meaning(muni))\n",
    "        keep = input(\"Keep?\")\n",
    "        munis_deleting_decision.append((muni, keep))\n",
    "\n",
    "    filtered_muni_list = []\n",
    "    for muni in munis_deleting_decision:\n",
    "        if muni[1] == 'y': # y = keep\n",
    "            filtered_muni_list.append(muni[0])\n",
    "\n",
    "    with open(filtered_munis_path) as filehandle:\n",
    "            for muni in filtered_muni_list:\n",
    "                filehandle.write('%s\\n' % muni)\n",
    "else:\n",
    "    print(\"Retrieved computed municipalities from file\")\n",
    "    filtered_muni_list = []\n",
    "    with open(filtered_munis_path, 'r') as filehandle:\n",
    "        for line in filehandle:\n",
    "            # remove linebreak which is the last character of the string\n",
    "            currentPlace = line[:-1]\n",
    "            filtered_muni_list.append(currentPlace)"
   ]
  },
  {
   "cell_type": "code",
   "execution_count": null,
   "metadata": {},
   "outputs": [],
   "source": []
  }
 ],
 "metadata": {
  "kernelspec": {
   "display_name": "Python 3",
   "language": "python",
   "name": "python3"
  },
  "language_info": {
   "codemirror_mode": {
    "name": "ipython",
    "version": 3
   },
   "file_extension": ".py",
   "mimetype": "text/x-python",
   "name": "python",
   "nbconvert_exporter": "python",
   "pygments_lexer": "ipython3",
   "version": "3.6.6"
  }
 },
 "nbformat": 4,
 "nbformat_minor": 2
}
